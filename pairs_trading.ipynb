{
 "cells": [
  {
   "cell_type": "markdown",
   "id": "879dbb5e-9e1d-4194-92ef-b72d4ddba72f",
   "metadata": {},
   "source": [
    "# Pairs Trading"
   ]
  },
  {
   "cell_type": "markdown",
   "id": "9b7915c9-59b2-499e-9981-344255a11700",
   "metadata": {},
   "source": [
    "## Theoretical background"
   ]
  },
  {
   "cell_type": "markdown",
   "id": "a041fee0-fd5e-477d-a4b0-f580a065e978",
   "metadata": {},
   "source": [
    "## Statistical arbitrage pairs"
   ]
  },
  {
   "cell_type": "markdown",
   "id": "c382a247-7408-474c-b9bb-211b025e031f",
   "metadata": {},
   "source": [
    "## Risk arbitrage pairs"
   ]
  },
  {
   "cell_type": "markdown",
   "id": "35ebca1d-c867-4703-b151-6291a7d0618f",
   "metadata": {},
   "source": [
    "### References \n",
    "\n",
    "- Vidyamurthy, Ganapathy. Pairs Trading: quantitative methods and analysis. Vol. 217. John Wiley & Sons, 2004."
   ]
  },
  {
   "cell_type": "code",
   "execution_count": null,
   "id": "c109df76-529b-4f61-a10c-49b0ebab295e",
   "metadata": {},
   "outputs": [],
   "source": []
  }
 ],
 "metadata": {
  "kernelspec": {
   "display_name": "Python 3 (ipykernel)",
   "language": "python",
   "name": "python3"
  },
  "language_info": {
   "codemirror_mode": {
    "name": "ipython",
    "version": 3
   },
   "file_extension": ".py",
   "mimetype": "text/x-python",
   "name": "python",
   "nbconvert_exporter": "python",
   "pygments_lexer": "ipython3",
   "version": "3.11.1"
  }
 },
 "nbformat": 4,
 "nbformat_minor": 5
}
