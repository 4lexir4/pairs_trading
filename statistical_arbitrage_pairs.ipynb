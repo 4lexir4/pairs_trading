{
 "cells": [
  {
   "cell_type": "markdown",
   "id": "879dbb5e-9e1d-4194-92ef-b72d4ddba72f",
   "metadata": {},
   "source": [
    "# Statistical Arbitrage Pairs Trading"
   ]
  },
  {
   "cell_type": "markdown",
   "id": "9b7915c9-59b2-499e-9981-344255a11700",
   "metadata": {},
   "source": [
    "## Theoretical background"
   ]
  },
  {
   "cell_type": "markdown",
   "id": "ee89a607-8fae-4c95-8418-4a2b10ae3c14",
   "metadata": {},
   "source": [
    "### Market neutral strategy"
   ]
  },
  {
   "cell_type": "markdown",
   "id": "f6c411d5-6756-4c64-b582-9a87eefd088e",
   "metadata": {},
   "source": [
    "Consider a portfolio denoted as $A$ and its return denoted as $r_A$. Assume that Capital Asset Pricing Model (CAPM) is valid, i.e., the corresponding assumptions are valid. Then, the return of the portfolio $A$ is defined as \n",
    "$$\n",
    "r_A = \\beta_A r_M + \\theta_A\n",
    "$$ \n",
    "where $r_M$ is the return of the market protfolio, $\\theta_A$ is the residual return (which is not explainable by the market return), and finally \n",
    "$$\n",
    "\\beta_A = \\frac{\\text{cov}(r_A, r_M)}{\\text{var}(r_M)}.\n",
    "$$ \n",
    "Given the above, **market neutral strategy** can be defined as a strategy which is neutral to market returns, or more precisely, the return from the strategy is **uncorrelated** with the market return. Using the return expressed within CAPM context, this is achieved when $\\beta_A = 0$ leading to \n",
    "$$\n",
    "r_A = \\theta_A\n",
    "$$\n",
    "meaning that the return of the portfolio $A$ is uncorrelated with the return of the market."
   ]
  },
  {
   "cell_type": "markdown",
   "id": "dbf8199e-e7a4-40db-903c-7069f8d05d0d",
   "metadata": {},
   "source": [
    "### Construction of a market neutral strategy"
   ]
  },
  {
   "cell_type": "markdown",
   "id": "52ab8a58-44ee-4e1e-bb6f-431de1dd2734",
   "metadata": {},
   "source": [
    "Consider two portfolios $A$ and $B$, with $\\beta_A > 0$ and $\\beta_B > 0$, and \n",
    "$$\n",
    "\\begin{split}\n",
    "r_A&=\\beta_A r_M + \\theta_A, \\\\\n",
    "r_B&=\\beta_B r_M + \\theta_B.\n",
    "\\end{split}\n",
    "$$\n",
    "Now, let us construct a portfolio, denoted as $C$, by taking a **short** position on $r$ units of portfolio $A$ and a **long** position on one unit of portfolio $B$. The resulting return for portfolio $C$ is\n",
    "$$\n",
    "r_C = -r r_A + r_B = (-r\\beta_A + \\beta_B)r_M + (-r\\theta_A + \\theta_B).\n",
    "$$\n",
    "Choosing \n",
    "$$\n",
    "r = \\frac{\\beta_B}{\\beta_A}\n",
    "$$\n",
    "removes the influence of market return $r_M$, namely\n",
    "$$\n",
    "r_C = -r\\theta_A + \\theta_B\n",
    "$$\n",
    "as desired."
   ]
  },
  {
   "cell_type": "markdown",
   "id": "a041fee0-fd5e-477d-a4b0-f580a065e978",
   "metadata": {},
   "source": [
    "## Statistical arbitrage pairs"
   ]
  },
  {
   "cell_type": "markdown",
   "id": "35ebca1d-c867-4703-b151-6291a7d0618f",
   "metadata": {},
   "source": [
    "### References \n",
    "\n",
    "- Vidyamurthy, Ganapathy. Pairs Trading: quantitative methods and analysis. Vol. 217. John Wiley & Sons, 2004."
   ]
  },
  {
   "cell_type": "code",
   "execution_count": null,
   "id": "c109df76-529b-4f61-a10c-49b0ebab295e",
   "metadata": {},
   "outputs": [],
   "source": []
  }
 ],
 "metadata": {
  "kernelspec": {
   "display_name": "Python 3 (ipykernel)",
   "language": "python",
   "name": "python3"
  },
  "language_info": {
   "codemirror_mode": {
    "name": "ipython",
    "version": 3
   },
   "file_extension": ".py",
   "mimetype": "text/x-python",
   "name": "python",
   "nbconvert_exporter": "python",
   "pygments_lexer": "ipython3",
   "version": "3.11.1"
  }
 },
 "nbformat": 4,
 "nbformat_minor": 5
}
