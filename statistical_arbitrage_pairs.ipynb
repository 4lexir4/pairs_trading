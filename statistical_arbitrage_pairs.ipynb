{
 "cells": [
  {
   "cell_type": "markdown",
   "id": "879dbb5e-9e1d-4194-92ef-b72d4ddba72f",
   "metadata": {},
   "source": [
    "# Statistical Arbitrage Pairs Trading"
   ]
  },
  {
   "cell_type": "markdown",
   "id": "9b7915c9-59b2-499e-9981-344255a11700",
   "metadata": {},
   "source": [
    "## Theoretical background"
   ]
  },
  {
   "cell_type": "markdown",
   "id": "ee89a607-8fae-4c95-8418-4a2b10ae3c14",
   "metadata": {},
   "source": [
    "### Market neutral strategy"
   ]
  },
  {
   "cell_type": "markdown",
   "id": "f6c411d5-6756-4c64-b582-9a87eefd088e",
   "metadata": {},
   "source": [
    "Consider a portfolio denoted as $A$ and its return denoted as $r_A$. Assume that Capital Asset Pricing Model (CAPM) is valid, i.e., the corresponding assumptions are valid. Essentially, this means that the return of the portfolio $A$ is defined as \n",
    "$$\n",
    "r_A := \\beta_A r_M + \\theta_A\n",
    "$$ \n",
    "where $r_M$ is the return of the market protfolio, $\\theta_A$ is the residual return, \n",
    "$$\n",
    "\\beta_A := \\frac{\\text{cov}(r_A, r_M)}{\\text{var}(r_M)},\n",
    "$$\n",
    "and most importantly, the so-called systematic componenet $\\beta_A r_M$ and the nonsystematic (residual) component $\\theta_A$ are **uncorrelated**. Given the above, a **market neutral strategy** can be defined as a strategy which is neutral to market returns, or more precisely, the return from the strategy is **uncorrelated** with the market return. Within CAPM context, this is achieved when $\\beta_A = 0$ leading to \n",
    "$$\n",
    "r_A = \\theta_A,\n",
    "$$\n",
    "as desired. "
   ]
  },
  {
   "cell_type": "markdown",
   "id": "dbf8199e-e7a4-40db-903c-7069f8d05d0d",
   "metadata": {},
   "source": [
    "### Construction of a market neutral strategy"
   ]
  },
  {
   "cell_type": "markdown",
   "id": "52ab8a58-44ee-4e1e-bb6f-431de1dd2734",
   "metadata": {},
   "source": [
    "Consider two portfolios $A$ and $B$, with $\\beta_A > 0$ and $\\beta_B > 0$, and \n",
    "$$\n",
    "\\begin{split}\n",
    "r_A&=\\beta_A r_M + \\theta_A, \\\\\n",
    "r_B&=\\beta_B r_M + \\theta_B.\n",
    "\\end{split}\n",
    "$$\n",
    "Now, let us construct a portfolio, denoted as $C$, by taking a **long** position on one unit of portfolio $A$ and a **short** position on $r$ units of portfolio $B$. The resulting return for portfolio $C$ is\n",
    "$$\n",
    "r_C = r_A - rr_B = (\\beta_A - r\\beta_B)r_M + (\\theta_A - r\\theta_B).\n",
    "$$\n",
    "Choosing \n",
    "$$\n",
    "r = \\frac{\\beta_A}{\\beta_B}\n",
    "$$\n",
    "removes the influence of market return $r_M$, namely\n",
    "$$\n",
    "r_C = \\theta_A - r\\theta_B,\n",
    "$$\n",
    "as desired."
   ]
  },
  {
   "cell_type": "markdown",
   "id": "7662e7ec-1fa9-4895-a41e-1bd494f87a32",
   "metadata": {},
   "source": [
    "## Pairs trading strategy"
   ]
  },
  {
   "cell_type": "markdown",
   "id": "a0ced1df-6b4d-4587-bf22-78c65be58345",
   "metadata": {},
   "source": [
    "In a similar fashion as in the example above, **pairs trading** strategy is constructed using just two securities, where **long** position is taken on one security and **short** position on the other security. At any time instance, the resulting portfolio is associated with the corresponding **spread** - which, in CAPM context, can be thought of as the **residual component**. The idea now is to put on positions when the spread is substantionally away from its mean, with the expectation that it will revert back, which will then trigger position reversal.\n",
    "\n",
    "Note that one of the assertions of CAPM is that the expected value of residual return is zero. This means that it is reasonable to expect a strong mean-reverting behavior (i.e., value oscillation about the mean value) of the residual time series. This mean-reverting behavior can then be exploited in the process of return prediction, leading to trading signals that constitute the trading strategy.\n",
    "\n",
    "Note however that CAPM assertion is rather strong and it is therefore recommended to explicitly verify the mean-reverting behavior of the spread time series."
   ]
  },
  {
   "cell_type": "markdown",
   "id": "a041fee0-fd5e-477d-a4b0-f580a065e978",
   "metadata": {},
   "source": [
    "## Statistical arbitrage pairs"
   ]
  },
  {
   "cell_type": "markdown",
   "id": "35ebca1d-c867-4703-b151-6291a7d0618f",
   "metadata": {},
   "source": [
    "### References \n",
    "\n",
    "- Vidyamurthy, Ganapathy. Pairs Trading: quantitative methods and analysis. Vol. 217. John Wiley & Sons, 2004."
   ]
  },
  {
   "cell_type": "code",
   "execution_count": null,
   "id": "c109df76-529b-4f61-a10c-49b0ebab295e",
   "metadata": {},
   "outputs": [],
   "source": []
  }
 ],
 "metadata": {
  "kernelspec": {
   "display_name": "Python 3 (ipykernel)",
   "language": "python",
   "name": "python3"
  },
  "language_info": {
   "codemirror_mode": {
    "name": "ipython",
    "version": 3
   },
   "file_extension": ".py",
   "mimetype": "text/x-python",
   "name": "python",
   "nbconvert_exporter": "python",
   "pygments_lexer": "ipython3",
   "version": "3.11.1"
  }
 },
 "nbformat": 4,
 "nbformat_minor": 5
}
